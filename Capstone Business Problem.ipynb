{
 "cells": [
  {
   "cell_type": "markdown",
   "metadata": {},
   "source": [
    "# The Battle of the Neighborhoods - Week 1\n",
    "\n",
    "## Introduction & Business Problem :\n",
    "\n",
    "### INTRODUCTION:\n",
    "Colorado is one of the fast-growing states in US in terms of development and is expected to have the second fastest job growth over the next five years according to Forbes. It has the second highest level of college attainment, behind only Massachusetts. Colorado is also called the “Ski Country USA”, because of the endless skiing and snowboarding options throughout the Rocky Mountains that call the state home. Resorts like Vail and Breckenridge offer world class skiing and snowboarding with luxurious lodging, dining and nightlife in their base villages, while Arapahoe Basin and Loveland Ski Area offer hardcore skiing and a down to earth, local’s vibe.\n",
    "\n",
    "### BUSINESS PROBLEM:\n",
    "There are 26 ski resorts in Colorado till today, The Capstone project provides a comprehensive comparison of the ski resorts with respect to the neighborhood of each ski resort. This project aims to provide clarity to customers coming from all over the world, to identify the ideal ski resort that suits the customer needs.  \n",
    "\n",
    "### TARGET AUDIENCE:\n",
    "The objective is to locate the ski resort that satisfy the customer needs in Colorado. It will also help the ski resort owners to select which of the neighborhood of Colorado ski resorts will be best choice to enlarge their operations. \n",
    "This would interest anyone who wants to visit or build their careers from the ski resorts in Colorado.\n",
    "\n",
    "### FOURSQUARE API:\n",
    "This project would use Four-square API as its prime data gathering source as it has a database of millions of places, especially their places API which provides the ability to perform location search, location sharing and details about a business.\n",
    "\n",
    "### CLUSTERING APPROACH:\n",
    "To compare the similarities of two cities, we decided to explore neighborhoods, segment them, and group them into clusters to find similar neighborhoods of the ski resorts in Colorado. To be able to do that, we need to cluster data which is a form of unsupervised machine learning: k-means clustering algorithm.\n"
   ]
  }
 ],
 "metadata": {
  "kernelspec": {
   "display_name": "Python 3",
   "language": "python",
   "name": "python3"
  },
  "language_info": {
   "codemirror_mode": {
    "name": "ipython",
    "version": 3
   },
   "file_extension": ".py",
   "mimetype": "text/x-python",
   "name": "python",
   "nbconvert_exporter": "python",
   "pygments_lexer": "ipython3",
   "version": "3.6.9"
  }
 },
 "nbformat": 4,
 "nbformat_minor": 2
}
