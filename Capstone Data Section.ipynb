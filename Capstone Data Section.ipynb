{
 "cells": [
  {
   "cell_type": "markdown",
   "metadata": {},
   "source": [
    "# The Battle of the Neighborhoods - Week 1\n",
    "## Data :\n",
    "Data 1 : Colorado ski resort dataset and house market and rental values dataset:  retrieved from Wikipedia (https://en.wikipedia.org/wiki/Comparison_of_North_American_ski_resorts), where the Colorado ski resort and the information about the altitude and the nearby city of the respective ski resorts have been found.\n",
    "\n",
    "Data 2 : Geo-locational information of Colorado city center and the neighborhoods: thanks to Google Maps Geocoding API, it has been possible to retrieve the geo-locational information (latitude and longitude) of Denver, Colorado city center and the neighborhoods.\n",
    "\n",
    "Data 3 : Surrounding venues for each neighborhood: obtained using FourSquare API platform. It has been set the limit of 100 venues and the radius of 5 Km.\n"
   ]
  }
 ],
 "metadata": {
  "kernelspec": {
   "display_name": "Python 3",
   "language": "python",
   "name": "python3"
  },
  "language_info": {
   "codemirror_mode": {
    "name": "ipython",
    "version": 3
   },
   "file_extension": ".py",
   "mimetype": "text/x-python",
   "name": "python",
   "nbconvert_exporter": "python",
   "pygments_lexer": "ipython3",
   "version": "3.6.9"
  }
 },
 "nbformat": 4,
 "nbformat_minor": 2
}
