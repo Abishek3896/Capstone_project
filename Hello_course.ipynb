## Week 1 Submission
import pandas as pd
import numpy as np
print("Hello Capstone Project Course!")
